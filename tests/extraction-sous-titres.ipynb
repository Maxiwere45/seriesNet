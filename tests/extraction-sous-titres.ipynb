{
 "cells": [
  {
   "cell_type": "markdown",
   "source": [
    "# **Notebook pour l'éxtraction des sous-titres des séries**"
   ],
   "metadata": {
    "collapsed": false
   },
   "id": "2112ba286f317220"
  },
  {
   "cell_type": "markdown",
   "source": [
    "## **Importation des librairies**"
   ],
   "metadata": {
    "collapsed": false
   },
   "id": "1445a043824df644"
  },
  {
   "cell_type": "code",
   "execution_count": null,
   "outputs": [],
   "source": [
    "import os\n",
    "import json"
   ],
   "metadata": {
    "collapsed": false
   },
   "id": "3598101d755a294f"
  },
  {
   "cell_type": "markdown",
   "source": [
    "## **Fonction pour lister les fichiers dans un répertoire et les sauvegareder dasn un fichier json**"
   ],
   "metadata": {
    "collapsed": false
   },
   "id": "622576fc11e453c3"
  },
  {
   "cell_type": "code",
   "execution_count": 7,
   "outputs": [],
   "source": [
    "def list_folders_in_directory(directory_path):\n",
    "    try:\n",
    "        # Utilisez os.listdir pour obtenir la liste de tous les fichiers et dossiers dans le répertoire\n",
    "        items = os.listdir(directory_path)\n",
    "\n",
    "        # Filtrer les dossiers uniquement\n",
    "        folders = [item for item in items if os.path.isdir(os.path.join(directory_path, item))]\n",
    "\n",
    "        return folders\n",
    "\n",
    "    except FileNotFoundError:\n",
    "        return []  # Si le répertoire n'existe pas, retournez une liste vide\n",
    "\n",
    "if __name__ == \"__main__\":\n",
    "    # Remplacez ce chemin par le répertoire que vous souhaitez explorer\n",
    "    directory_path = \"/home/maxiwere45/PycharmProjects/seriesNet/tests/pure_data\"\n",
    "\n",
    "    folders = list_folders_in_directory(directory_path)\n",
    "    # créer un fichier json stockant les noms des séries\n",
    "    with open('series.json', 'w') as f:\n",
    "        f.write('{\"series\":[')\n",
    "        for folder in folders:\n",
    "            f.write('\"' + folder + '\",')\n",
    "        f.write(']}')\n",
    "\n"
   ],
   "metadata": {
    "collapsed": false,
    "ExecuteTime": {
     "end_time": "2023-10-20T12:18:16.510770798Z",
     "start_time": "2023-10-20T12:18:16.469037420Z"
    }
   },
   "id": "e81f43ef57693459"
  },
  {
   "cell_type": "markdown",
   "source": [],
   "metadata": {
    "collapsed": false
   },
   "id": "af4854a886659c2f"
  }
 ],
 "metadata": {
  "kernelspec": {
   "display_name": "Python 3",
   "language": "python",
   "name": "python3"
  },
  "language_info": {
   "codemirror_mode": {
    "name": "ipython",
    "version": 2
   },
   "file_extension": ".py",
   "mimetype": "text/x-python",
   "name": "python",
   "nbconvert_exporter": "python",
   "pygments_lexer": "ipython2",
   "version": "2.7.6"
  }
 },
 "nbformat": 4,
 "nbformat_minor": 5
}
